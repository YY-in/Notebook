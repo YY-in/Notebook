{
 "cells": [
  {
   "cell_type": "markdown",
   "id": "5ef8e81a",
   "metadata": {},
   "source": [
    "## 1.基础系统"
   ]
  },
  {
   "cell_type": "code",
   "execution_count": 1,
   "id": "4ac56de9",
   "metadata": {},
   "outputs": [
    {
     "name": "stdout",
     "output_type": "stream",
     "text": [
      "win32\n"
     ]
    }
   ],
   "source": [
    "import sys\n",
    "print(sys.platform)"
   ]
  },
  {
   "cell_type": "code",
   "execution_count": 4,
   "id": "4bab6a5d",
   "metadata": {},
   "outputs": [
    {
     "name": "stdout",
     "output_type": "stream",
     "text": [
      "['False', 'None', 'True', 'and', 'as', 'assert', 'async', 'await', 'break', 'class', 'continue', 'def', 'del', 'elif', 'else', 'except', 'finally', 'for', 'from', 'global', 'if', 'import', 'in', 'is', 'lambda', 'nonlocal', 'not', 'or', 'pass', 'raise', 'return', 'try', 'while', 'with', 'yield']\n"
     ]
    }
   ],
   "source": [
    "import keyword\n",
    "print(keyword.kwlist)"
   ]
  },
  {
   "cell_type": "markdown",
   "id": "cfdacd4d",
   "metadata": {},
   "source": [
    "## 2.字符串\n",
    "字符串是由Unicode码点组成的不可变序列"
   ]
  },
  {
   "cell_type": "code",
   "execution_count": 8,
   "id": "5c5f4ba3",
   "metadata": {},
   "outputs": [
    {
     "name": "stdout",
     "output_type": "stream",
     "text": [
      "str_2：python,str_3:Ztho\n"
     ]
    }
   ],
   "source": [
    "str_2=\"python\"\n",
    "str_3='Z'+str_2[2:5]  #左开右闭\n",
    "print(\"str_2：%s,str_3:%s\"%(str_2,str_3))"
   ]
  },
  {
   "cell_type": "code",
   "execution_count": null,
   "id": "91ce23a6",
   "metadata": {},
   "outputs": [],
   "source": [
    "str_2 = \"python\" # 变量赋值\n",
    "\n",
    "# str.split(str=\"\", num=-1)：通过指定分隔符对字符串进行切片，如果参数 num 有指定值，则分隔 num+1 个子字符串,-1表示分割所有。\n",
    "print(str_2.split('h')) # 输出[‘pyt’,’on’]，根据h对字符串切割\n",
    "\n",
    "# str.replace(old, new[, max])：返回字符串中的 old（旧字符串） 替换成 new(新字符串)后生成的新字符串，如果指定第三个参数max，则替换不超过 max 次。\n",
    "print(str_2.replace('py', 'PY')) # Python，将字符串中的py替换为PY\n",
    "\n",
    "# print(str_2.islower()):判断字符串是否为小写，是则输出True，否则输出False\n",
    "print(str_2.islower()) # 输出为True\n",
    "\n",
    "# print(str_2.isupper()):判断字符串是否为大写，是则输出True，否则输出False\n",
    "print(str_2.isupper()) # 输出为False\n",
    "\n",
    "# str.upper()：返回小写字符转化为大写后的值。\n",
    "print(str_2.upper()) # PYTHON\n",
    "\n",
    "# str.lower()：返回大写字符转化为小写后的值。\n",
    "print('PYTHON'.lower()) # python，字符串转小写\n",
    "\n",
    "# str.join(sequence)：sequence：要连接的序列，返回指定字符连接序列中元素后生成的新字符串。\n",
    "print(''.join(['life', 'is' , 'short']))     # 输出life is short，join拼接字符串\n",
    "\n",
    "hw12 = '%s %s %d' % ('hello', 'world', 12)  # 格式化字符串\n",
    "print(hw12)                                 # 输出hello world 12"
   ]
  },
  {
   "cell_type": "markdown",
   "id": "37caf07e",
   "metadata": {},
   "source": [
    "## 3.列表\n",
    "python中列表是一个功能强大的集合，用中括号表示。列表的数据类型可以不一样，可以列表中包含列表"
   ]
  },
  {
   "cell_type": "code",
   "execution_count": 10,
   "id": "7f3caeaf",
   "metadata": {},
   "outputs": [
    {
     "name": "stdout",
     "output_type": "stream",
     "text": [
      "['cat', 'dog', 'monkey', 'fish']\n",
      "['cat', 'dog', 'monkey']\n",
      "['cat', 'fish', 'dog', 'monkey']\n",
      "['cat', 'dog', 'monkey']\n",
      "(0, 'cat')\n",
      "(1, 'dog')\n",
      "(2, 'monkey')\n",
      "['catcat', 'dogdog', 'monkeymonkey']\n",
      "[12, 32, 45, 55]\n",
      "[55, 45, 32, 12]\n"
     ]
    }
   ],
   "source": [
    "##### animals = ['cat', 'dog', 'monkey']\n",
    "\n",
    "# list.append(obj)：在列表末尾添加新的对象。\n",
    "animals.append('fish') # 追加元素\n",
    "print(animals)         # 输出 ['cat', 'dog', 'monkey', ‘fish’]\n",
    "\n",
    "# list.remove(obj)：移除列表中某个值的第一个匹配项。\n",
    "animals.remove('fish') # 删除元素fish\n",
    "print(animals)         # 输出 ['cat', 'dog', 'monkey']\n",
    "\n",
    "# list.insert(index, obj)：用于将指定对象插入列表的指定位置。index：插入位置\n",
    "animals.insert(1, 'fish') # 在下标1的地方插入元素fish\n",
    "print(animals)           # 输出 ['cat', ‘fish’, 'dog', 'monkey']\n",
    "\n",
    "# list.pop([index=-1])：要移除列表中对下标对应的元素（默认是最后一个）。Index：下标\n",
    "animals.pop(1) # 删除下标为1的元素\n",
    "print(animals) # 输出 ['cat', 'dog', 'monkey']\n",
    "\n",
    "#遍历并获取元素和对应索引  \n",
    "# enumerate(sequence) ：将一个可遍历的数据对象组合为一个索引序列，同时列出数据和数据下标，一般用在 for 循环当中。\n",
    "for i in enumerate(animals): \n",
    "    print(i) # 元素下标和元素所组成的索引\n",
    "#输出：(0, cat)\n",
    "# (1, dog)\n",
    "# (2, monkey)\n",
    "\n",
    "#列表推导式\n",
    "squares = [x*2 for x in animals] # 批量生成符合规则的元素组成的列表\n",
    "print(squares) #['catcat ', 'dogdog ', 'monkeymonkey ']\n",
    "list1 = [12, 45, 32, 55]\n",
    "\n",
    "# list.sort(cmp=None, key=None, reverse=False)：cmp为可选参数, 如果指定了该参数，会使用该参数的方法进行排序。key是用来进行比较的元素。reverse为排序规则，False为升序。\n",
    "list1.sort() # 对列表进行排序\n",
    "print(list1) # 输出[12, 32, 45, 55]\n",
    "\n",
    "# list.reverse()：反向列表中元素。\n",
    "list1.reverse() # 对列表进行逆置\n",
    "print(list1) # 输出[55, 45, 32, 12]"
   ]
  },
  {
   "cell_type": "markdown",
   "id": "038f1ce5",
   "metadata": {},
   "source": [
    "## 4.元组\n",
    "Pythoon的元祖与列表类似，不同之处在于元祖的元素不能修改。元祖使用小括号，列表使用方括号"
   ]
  },
  {
   "cell_type": "code",
   "execution_count": 12,
   "id": "3e665610",
   "metadata": {},
   "outputs": [
    {
     "name": "stdout",
     "output_type": "stream",
     "text": [
      "(1, 2, 3, 4, 5)\n"
     ]
    },
    {
     "ename": "TypeError",
     "evalue": "'tuple' object does not support item assignment",
     "output_type": "error",
     "traceback": [
      "\u001b[1;31m---------------------------------------------------------------------------\u001b[0m",
      "\u001b[1;31mTypeError\u001b[0m                                 Traceback (most recent call last)",
      "\u001b[1;32m<ipython-input-12-7b3ce6ffda97>\u001b[0m in \u001b[0;36m<module>\u001b[1;34m\u001b[0m\n\u001b[0;32m      4\u001b[0m \u001b[0mt\u001b[0m\u001b[1;33m=\u001b[0m\u001b[1;33m(\u001b[0m\u001b[1;36m42\u001b[0m\u001b[1;33m,\u001b[0m \u001b[1;33m)\u001b[0m           \u001b[1;31m#只有一个元素的元组，区别于数字\u001b[0m\u001b[1;33m\u001b[0m\u001b[1;33m\u001b[0m\u001b[0m\n\u001b[0;32m      5\u001b[0m \u001b[0mtuple1\u001b[0m \u001b[1;33m=\u001b[0m \u001b[1;33m(\u001b[0m\u001b[1;36m12\u001b[0m\u001b[1;33m,\u001b[0m \u001b[1;36m45\u001b[0m\u001b[1;33m,\u001b[0m \u001b[1;36m32\u001b[0m\u001b[1;33m,\u001b[0m \u001b[1;36m55\u001b[0m\u001b[1;33m,\u001b[0m \u001b[1;33m[\u001b[0m\u001b[1;36m1\u001b[0m\u001b[1;33m,\u001b[0m \u001b[1;36m0\u001b[0m\u001b[1;33m,\u001b[0m \u001b[1;36m3\u001b[0m\u001b[1;33m]\u001b[0m\u001b[1;33m)\u001b[0m \u001b[1;31m# 创建元祖\u001b[0m\u001b[1;33m\u001b[0m\u001b[1;33m\u001b[0m\u001b[0m\n\u001b[1;32m----> 6\u001b[1;33m \u001b[0mtuple1\u001b[0m\u001b[1;33m[\u001b[0m\u001b[1;36m0\u001b[0m\u001b[1;33m]\u001b[0m \u001b[1;33m=\u001b[0m \u001b[1;34m\"good\"\u001b[0m    \u001b[1;31m# 程序异常，元组的不可变性\u001b[0m\u001b[1;33m\u001b[0m\u001b[1;33m\u001b[0m\u001b[0m\n\u001b[0m\u001b[0;32m      7\u001b[0m \u001b[0mtuple1\u001b[0m\u001b[1;33m[\u001b[0m\u001b[1;36m4\u001b[0m\u001b[1;33m]\u001b[0m\u001b[1;33m[\u001b[0m\u001b[1;36m0\u001b[0m\u001b[1;33m]\u001b[0m \u001b[1;33m=\u001b[0m \u001b[1;36m2\u001b[0m      \u001b[1;31m# 元组中可变的元素是可以变得\u001b[0m\u001b[1;33m\u001b[0m\u001b[1;33m\u001b[0m\u001b[0m\n\u001b[0;32m      8\u001b[0m \u001b[0mprint\u001b[0m\u001b[1;33m(\u001b[0m\u001b[0mtuple1\u001b[0m\u001b[1;33m)\u001b[0m         \u001b[1;31m# (12, 45, 32, 55, [2, 0, 3])\u001b[0m\u001b[1;33m\u001b[0m\u001b[1;33m\u001b[0m\u001b[0m\n",
      "\u001b[1;31mTypeError\u001b[0m: 'tuple' object does not support item assignment"
     ]
    }
   ],
   "source": [
    "T=(1, 2, 3) #创建元组\n",
    "print(T + (4, 5))  #元组合并，输出：(1, 2, 3, 4, 5)\n",
    "\n",
    "t=(42, )           #只有一个元素的元组，区别于数字\n",
    "tuple1 = (12, 45, 32, 55, [1, 0, 3]) # 创建元祖\n",
    "tuple1[0] = \"good\"    # 程序异常，元组的不可变性\n",
    "tuple1[4][0] = 2      # 元组中可变的元素是可以变得\n",
    "print(tuple1)         # (12, 45, 32, 55, [2, 0, 3])"
   ]
  },
  {
   "cell_type": "markdown",
   "id": "7c3d808b",
   "metadata": {},
   "source": [
    "### 5.字典\n",
    "字典是数据的无序集合，用于存储数据值。与其他仅将单个值作为项的数据类型不同，字典具有键值对，字典中的键和值之间用冒号\":\"分割,而键值对之间用\",\"分割，所有键值对用花括号{}括起来"
   ]
  },
  {
   "cell_type": "code",
   "execution_count": 13,
   "id": "0e2318a8",
   "metadata": {},
   "outputs": [
    {
     "name": "stdout",
     "output_type": "stream",
     "text": [
      "{'food': 'Spam', 'b': '2', 'color': 'pink'}\n",
      "{'food': 'Spam', 'b': '2', 'color': 'red'}\n",
      "None\n",
      "键值不存在！\n",
      "dict_keys(['food', 'b', 'color'])\n",
      "dict_values(['Spam', '2', 'red'])\n",
      "dict_items([('food', 'Spam'), ('b', '2'), ('color', 'red')])\n",
      "{}\n"
     ]
    },
    {
     "ename": "NameError",
     "evalue": "name 'd' is not defined",
     "output_type": "error",
     "traceback": [
      "\u001b[1;31m---------------------------------------------------------------------------\u001b[0m",
      "\u001b[1;31mNameError\u001b[0m                                 Traceback (most recent call last)",
      "\u001b[1;32m<ipython-input-13-1ded08c81e31>\u001b[0m in \u001b[0;36m<module>\u001b[1;34m\u001b[0m\n\u001b[0;32m     21\u001b[0m \u001b[0mprint\u001b[0m\u001b[1;33m(\u001b[0m\u001b[0md\u001b[0m\u001b[1;33m)\u001b[0m  \u001b[1;31m# 输出 {}\u001b[0m\u001b[1;33m\u001b[0m\u001b[1;33m\u001b[0m\u001b[0m\n\u001b[0;32m     22\u001b[0m \u001b[1;32mdel\u001b[0m\u001b[1;33m(\u001b[0m\u001b[0md\u001b[0m\u001b[1;33m)\u001b[0m    \u001b[1;31m# 删除字典\u001b[0m\u001b[1;33m\u001b[0m\u001b[1;33m\u001b[0m\u001b[0m\n\u001b[1;32m---> 23\u001b[1;33m \u001b[0mprint\u001b[0m\u001b[1;33m(\u001b[0m\u001b[0md\u001b[0m\u001b[1;33m)\u001b[0m  \u001b[1;31m# 程序异常，提示“d”未定义\u001b[0m\u001b[1;33m\u001b[0m\u001b[1;33m\u001b[0m\u001b[0m\n\u001b[0m",
      "\u001b[1;31mNameError\u001b[0m: name 'd' is not defined"
     ]
    }
   ],
   "source": [
    "# 字典的三种赋值操作\n",
    "x = {'food':'Spam', 'quantity':4, 'color':'pink'}\n",
    "X =dict(food='Spam', quantity=4, color='pink')\n",
    "x = dict([(\"food\", \"Spam\"),(\"b\", \"2\"), (\"color\", \"pink\")])\n",
    "\n",
    "# dict.copy()：拷贝数据\n",
    "d =x.copy()\n",
    "d['color'] = 'red'\n",
    "print(x) # {'food':'Spam', 'quantity':4, 'color':'pink'} \n",
    "print(d) # {'food':'Spam', 'quantity':4, 'color':'red'}\n",
    "\n",
    "#元素访问\n",
    "print(d.get('name'))  # 输出None\n",
    "print(d.get('name', '键值不存在！')) # 输出 键值不存在\n",
    "print(d.keys())    # 输出dict_keys(['food', 'quantity', 'color'])\n",
    "print(d.values())  # 输出dict_values(['Spam', 4, 'pink'])\n",
    "print(d.items())   \n",
    "\n",
    "# 输出 dict_items([('food', 'Spam'), ('quantity', 4), ('color', 'pink')])\n",
    "d.clear() # 清空字典中的所有数据\n",
    "print(d)  # 输出 {}\n",
    "del(d)    # 删除字典\n",
    "print(d)  # 程序异常，提示“d”未定义"
   ]
  },
  {
   "cell_type": "markdown",
   "id": "d5c957e9",
   "metadata": {},
   "source": [
    "### 6.集合\n",
    "集合是一个无序的不重复元素的序列。它是可迭代的，没有重复元素（每个元素都是唯一的）"
   ]
  },
  {
   "cell_type": "code",
   "execution_count": 15,
   "id": "b02af68d",
   "metadata": {},
   "outputs": [
    {
     "name": "stdout",
     "output_type": "stream",
     "text": [
      "False\n",
      "{'Techs', 'Prince', 'Data'}\n",
      "3\n",
      "{'Techs', 'Prince'}\n",
      "[1, 3, 5]\n"
     ]
    }
   ],
   "source": [
    "sample_set = {'Prince', 'Techs'}\n",
    "print('Data' in sample_set) # 输出False，in的作用是检查集合中是否存在某一元素\n",
    "\n",
    "# set.add(obj)：给集合添加元素，如果添加的元素在集合中已存在，则不执行任何操作。\n",
    "sample_set.add('Data') # 向集合中增加元素Data\n",
    "print(sample_set)      # 输出 {'Prince', 'Techs', 'Data'}\n",
    "print(len(sample_set)) # 输出3 len() 函数返回集合元素个数\n",
    "\n",
    "# set.remove(obj)：移除集合中的指定元素。\n",
    "sample_set.remove('Data') # 删除元素Data  \n",
    "print(sample_set)         # {'Prince', 'Techs'}\n",
    "list2 = [1, 3, 1, 5, 3]\n",
    "print(list(set(list2)))   # 输出 [1,3,5]，利用集合元素的唯一性进行列表去重\n",
    "sample_set = frozenset(sample_set) # 不可变集合 frozenset()函数返回一个冻结的集合，冻结后集合不能再添加或删除任何元素。"
   ]
  },
  {
   "cell_type": "markdown",
   "id": "c619b6ed",
   "metadata": {},
   "source": [
    "### 7.深拷贝和浅拷贝\n",
    "深拷贝是要把拷贝的对象整体复制一份，存在新开辟的空间里；而浅拷贝是指，对于要拷贝的对象要复制一份，但是对于其内部的子对象就不复制了，而是直接引用，也就是添加一个链接而已。"
   ]
  },
  {
   "cell_type": "code",
   "execution_count": 16,
   "id": "c5503b24",
   "metadata": {},
   "outputs": [
    {
     "name": "stdout",
     "output_type": "stream",
     "text": [
      "Dict1:{'name': 'lee', 'age': 89, 'num': [1, 6, 8]}  Dict_copy:{'name': 'lee', 'age': 89, 'num': [1, 6, 8]}  Dict_dcopy:{'name': 'lee', 'age': 89, 'num': [1, 2, 8]}\n"
     ]
    }
   ],
   "source": [
    "import copy\n",
    "Dict1 = { 'name':'lee', 'age':89, 'num':[1,2,8]} # 新建字典\n",
    "Dict_copy = Dict1.copy()          # 浅拷贝\n",
    "Dict_dcopy = copy.deepcopy(Dict1) # 深拷贝\n",
    "Dict1['num'][1] = 6               # 修改原数据中嵌套列表的值\n",
    "print('Dict1:' + str(Dict1), ' Dict_copy:' +str(Dict_copy),' Dict_dcopy:' + str(Dict_dcopy))"
   ]
  },
  {
   "cell_type": "markdown",
   "id": "fc06c640",
   "metadata": {},
   "source": [
    "### 8.if判断语句"
   ]
  },
  {
   "cell_type": "code",
   "execution_count": 20,
   "id": "24c19034",
   "metadata": {},
   "outputs": [
    {
     "name": "stdout",
     "output_type": "stream",
     "text": [
      "请输入你的分数33\n",
      "差\n"
     ]
    }
   ],
   "source": [
    "#根据输入的分数判断\n",
    "# input()：用于接收输入。\n",
    "score = input(\"请输入你的分数\") # input函数接收输入，为字符串类型\n",
    "score = float(score) # 将分数转化为数字类型\n",
    "\n",
    "# try:… except Exception:… 是Python中用于捕获异常的语句，如果try中的语句出现错误，则会执行except中的语句。\n",
    "try:\n",
    "    if 100 >= score >= 90: # 判断输入的值是否大于等级分数\n",
    "        print(\"优\")    # 满足条件后输出等级\n",
    "    elif 90 > score >= 80:\n",
    "        print(\"良\")\n",
    "    elif 80 > score >= 60:\n",
    "        print(\"中\")\n",
    "    elif 60 > score >= 0:\n",
    "        print(\"差\")\n",
    "    else:\n",
    "        print(\"请输入0-100之间的分数\")\n",
    "        \n",
    "except Exception:\n",
    "    print(\"请输入正确的分数\")"
   ]
  },
  {
   "cell_type": "markdown",
   "id": "9bce3cc8",
   "metadata": {},
   "source": [
    "### 9.循环语句"
   ]
  },
  {
   "cell_type": "code",
   "execution_count": 21,
   "id": "60671337",
   "metadata": {},
   "outputs": [
    {
     "name": "stdout",
     "output_type": "stream",
     "text": [
      "1\n",
      "2\n",
      "跳出此次循环\n",
      "4\n",
      "跳出当前大的循环\n"
     ]
    }
   ],
   "source": [
    "#while循环\n",
    "i = 0          # 新建i变量\n",
    "while i < 9:     # 设置循环条件\n",
    "    i += 1       # 每次循环i增加1\n",
    "    if i == 3: # 判断条件是否满足\n",
    "        print(\"跳出此次循环\")\n",
    "        continue # continue跳出当前的这一次循环\n",
    "    if i == 5:\n",
    "        print(\"跳出当前大的循环\")\n",
    "        break # 跳出当前的大的循环\n",
    "    print(i)"
   ]
  },
  {
   "cell_type": "markdown",
   "id": "2d93e750",
   "metadata": {},
   "source": [
    "### 10.函数"
   ]
  },
  {
   "cell_type": "code",
   "execution_count": 22,
   "id": "ad8bd9c3",
   "metadata": {},
   "outputs": [
    {
     "name": "stdout",
     "output_type": "stream",
     "text": [
      "[0, 1, 1, 2, 3]\n"
     ]
    }
   ],
   "source": [
    "def fibs(num):      # 位置参数\n",
    "    result = [0, 1]  # 新建列表存储数列的值\n",
    "    for i in range(2, num):   # 循环num-2次\n",
    "        a = result[i - 1] + result[i - 2]\n",
    "        result.append(a)     # 将值追加至列表\n",
    "    return result   # 返回列表\n",
    "print(fibs(5))\n",
    "# 输出：[0, 1, 1, 2, 3]"
   ]
  },
  {
   "cell_type": "code",
   "execution_count": 23,
   "id": "cfad18d0",
   "metadata": {},
   "outputs": [
    {
     "name": "stdout",
     "output_type": "stream",
     "text": [
      "hello, world!\n",
      "Greetings, world!\n",
      "Greetings, universe!\n",
      "hello, Gumby!\n"
     ]
    }
   ],
   "source": [
    "def hello(greeting='hello', name='world'): # 默认参数\n",
    "    print('%s, %s!' % (greeting, name))    # 格式化输出\n",
    "hello()                                    # hello，world    默认参数\n",
    "hello('Greetings')                         # Greetings，world     位置参数\n",
    "hello('Greetings', 'universe')             # Greetings，universe     位置参数\n",
    "hello(name = 'Gumby')                      # hello，Gumby    关键字参数"
   ]
  },
  {
   "cell_type": "markdown",
   "id": "b2c0e1f0",
   "metadata": {},
   "source": [
    "### 11.面向对象\n",
    "\n",
    "+ 类(Class): 用来描述具有相同的属性和方法的对象的集合。它定义了该集合中每个对象所共有的属性和方法。对象是类的实例。\n",
    "+ 方法：类中定义的函数。\n",
    "+ 类变量：类变量在整个实例化的对象中是公用的。类变量定义在类中且在函数体之外。类变量通常不作为实例变量使用。\n",
    "+ 数据成员：类变量或者实例变量用于处理类及其实例对象的相关的数据。\n",
    "+ 方法重写：如果从父类继承的方法不能满足子类的需求，可以对其进行改写，这个过程叫方法的覆盖（override），也称为方法的重写。\n",
    "+ 局部变量：定义在方法中的变量，只作用于当前实例的类。\n",
    "+ 实例变量：在类的声明中，属性是用变量来表示的，这种变量就称为实例变量，实例变量就是一个用 self 修饰的变量。\n",
    "+ 继承：即一个派生类（derived class）继承基类（base class）的字段和方法。继承也允许把一个派生类的对象作为一个基类对象对待。例如，有这样一个设计：一个Dog类型的对象派生自Animal类，这是模拟\"是一个（is-a）\"关系（例图，Dog是一个Animal）。\n",
    "+ 实例化：创建一个类的实例，类的具体对象。\n",
    "+ 对象：通过类定义的数据结构实例。对象包括两个数据成员（类变量和实例变量）和方法。\n",
    "\n",
    "和其它编程语言相比，Python 在尽可能不增加新的语法和语义的情况下加入了类机制。\n",
    "\n",
    "Python中的类提供了面向对象编程的所有基本功能：类的继承机制允许多个基类，派生类可以覆盖基类中的任何方法，方法中可以调用基类中的同名方法。\n",
    "\n",
    "对象可以包含任意数量和类型的数据。 "
   ]
  },
  {
   "cell_type": "markdown",
   "id": "53c8c9fa",
   "metadata": {},
   "source": [
    "#### self代表类的实例，而非类\n",
    "类的方法与普通的函数只有一个特别的区别——它们必须有一个额外的第一参数名称，按照管理是self"
   ]
  },
  {
   "cell_type": "code",
   "execution_count": 32,
   "id": "2d54f0ef",
   "metadata": {},
   "outputs": [
    {
     "name": "stdout",
     "output_type": "stream",
     "text": [
      "<__main__.Test object at 0x0000029D89AF3850>\n",
      "<class '__main__.Test'>\n"
     ]
    }
   ],
   "source": [
    "\n",
    "class Test:\n",
    "    def prt(self):\n",
    "        print(self)\n",
    "        print(self.__class__)\n",
    " \n",
    "t = Test()\n",
    "t.prt()\n"
   ]
  },
  {
   "cell_type": "markdown",
   "id": "c863afb6",
   "metadata": {},
   "source": [
    "从执行结果可以很明显的看出，self 代表的是类的实例，代表当前对象的地址，而 self.class 则指向类。\n",
    "\n",
    "self 不是 python 关键字，我们把他换成 yyin 也是可以正常执行的:"
   ]
  },
  {
   "cell_type": "code",
   "execution_count": 33,
   "id": "7b5fbf9a",
   "metadata": {},
   "outputs": [
    {
     "name": "stdout",
     "output_type": "stream",
     "text": [
      "<__main__.Test object at 0x0000029D89AF3D00>\n",
      "<class '__main__.Test'>\n"
     ]
    }
   ],
   "source": [
    "class Test:\n",
    "    def prt(yyin):\n",
    "        print(yyin)\n",
    "        print(yyin.__class__)\n",
    " \n",
    "t = Test()\n",
    "t.prt()"
   ]
  },
  {
   "cell_type": "markdown",
   "id": "4b876b81",
   "metadata": {},
   "source": [
    "#### 类的方法\n",
    "在类的内部，使用 def 关键字来定义一个方法，与一般函数定义不同，类方法必须包含参数 self, 且为第一个参数，self 代表的是类的实例"
   ]
  },
  {
   "cell_type": "code",
   "execution_count": 37,
   "id": "22fcbb74",
   "metadata": {},
   "outputs": [
    {
     "name": "stdout",
     "output_type": "stream",
     "text": [
      "Hello, Fred\n",
      "HELLO, FRED!\n"
     ]
    }
   ],
   "source": [
    "class Greeter(object):        # 新建类，继承object\n",
    "    # 定义基本属性\n",
    "    name=''\n",
    "    # age=0\n",
    "    # 定义私有属性，私有属性在类外部无法直接访问\n",
    "    # _weight = 0\n",
    "    # 定义构造方法\n",
    "    def __init__(self,n): # 初始化类，self代表类的实例，而非类\n",
    "        self.name = n      # 创建一个实例变量\n",
    "\n",
    "    # 实例方法(类方法)\n",
    "    def greet(self, loud=False):\n",
    "        if loud:\n",
    "            print('HELLO, %s!' % self.name.upper())\n",
    "        else:\n",
    "            print('Hello, %s' % self.name)\n",
    "            \n",
    "g = Greeter('Fred')     # 创建Greeter类的一个实例\n",
    "g.greet()               # Hello,Fred    调用实例方法，使用默认参数\n",
    "g.greet(loud = True)    # HELLO, FRED  调用实例方法，自定义参数"
   ]
  },
  {
   "cell_type": "markdown",
   "id": "d2a5b793",
   "metadata": {},
   "source": [
    "#### 继承\n",
    "\n",
    "Python 同样支持类的继承，如果一种语言不支持继承，类就没有什么意义。派生类的定义如下所示:"
   ]
  },
  {
   "cell_type": "code",
   "execution_count": 38,
   "id": "8d4a5ccf",
   "metadata": {},
   "outputs": [
    {
     "name": "stdout",
     "output_type": "stream",
     "text": [
      "ken 说: 我 10 岁了，我在读 3 年级\n"
     ]
    }
   ],
   "source": [
    "#类定义\n",
    "class people:\n",
    "    #定义基本属性\n",
    "    name = ''\n",
    "    age = 0\n",
    "    #定义私有属性,私有属性在类外部无法直接进行访问\n",
    "    __weight = 0\n",
    "    #定义构造方法\n",
    "    def __init__(self,n,a,w):\n",
    "        self.name = n\n",
    "        self.age = a\n",
    "        self.__weight = w\n",
    "    def speak(self):\n",
    "        print(\"%s 说: 我 %d 岁。\" %(self.name,self.age))\n",
    " \n",
    "#单继承示例\n",
    "class student(people):\n",
    "    grade = ''\n",
    "    def __init__(self,n,a,w,g):\n",
    "        #调用父类的构函\n",
    "        people.__init__(self,n,a,w)\n",
    "        self.grade = g\n",
    "    #覆写父类的方法\n",
    "    def speak(self):\n",
    "        print(\"%s 说: 我 %d 岁了，我在读 %d 年级\"%(self.name,self.age,self.grade))\n",
    " \n",
    " \n",
    "s = student('ken',10,60,3)\n",
    "s.speak()"
   ]
  },
  {
   "cell_type": "markdown",
   "id": "020ac2ba",
   "metadata": {},
   "source": [
    "多继承\n",
    "Python同样有限的支持多继承形式。多继承的类定义形如下例:\n",
    "class DerivedClassName(Base1, Base2, Base3):\n",
    "\n",
    "需要注意圆括号中父类的顺序，若是父类中有相同的方法名，而在子类使用时未指定，python从左至右搜索 即方法在子类中未找到时，从左到右查找父类中是否包含方法。"
   ]
  },
  {
   "cell_type": "code",
   "execution_count": 40,
   "id": "02e819a3",
   "metadata": {},
   "outputs": [
    {
     "name": "stdout",
     "output_type": "stream",
     "text": [
      "我叫 Tim，我是一个演说家，我演讲的主题是 Python\n"
     ]
    }
   ],
   "source": [
    "#类定义\n",
    "class people:\n",
    "    #定义基本属性\n",
    "    name = ''\n",
    "    age = 0\n",
    "    #定义私有属性,私有属性在类外部无法直接进行访问\n",
    "    __weight = 0\n",
    "    #定义构造方法\n",
    "    def __init__(self,n,a,w):\n",
    "        self.name = n\n",
    "        self.age = a\n",
    "        self.__weight = w\n",
    "    def speak(self):\n",
    "        print(\"%s 说: 我 %d 岁。\" %(self.name,self.age))\n",
    " \n",
    "#单继承示例\n",
    "class student(people):\n",
    "    grade = ''\n",
    "    def __init__(self,n,a,w,g):\n",
    "        #调用父类的构函\n",
    "        people.__init__(self,n,a,w)\n",
    "        self.grade = g\n",
    "    #覆写父类的方法\n",
    "    def speak(self):\n",
    "        print(\"%s 说: 我 %d 岁了，我在读 %d 年级\"%(self.name,self.age,self.grade))\n",
    " \n",
    "#另一个类，多重继承之前的准备\n",
    "class speaker():\n",
    "    topic = ''\n",
    "    name = ''\n",
    "    def __init__(self,n,t):\n",
    "        self.name = n\n",
    "        self.topic = t\n",
    "    def speak(self):\n",
    "        print(\"我叫 %s，我是一个演说家，我演讲的主题是 %s\"%(self.name,self.topic))\n",
    " \n",
    "#多重继承\n",
    "class sample(speaker,student):\n",
    "    a =''\n",
    "    def __init__(self,n,a,w,g,t):\n",
    "        student.__init__(self,n,a,w,g)\n",
    "        speaker.__init__(self,n,t)\n",
    " \n",
    "test = sample(\"Tim\",25,80,4,\"Python\")\n",
    "test.speak()   #方法名同，默认调用的是在括号中排前地父类的方法\n",
    "\n"
   ]
  },
  {
   "cell_type": "markdown",
   "id": "e47a0875",
   "metadata": {},
   "source": [
    "#### 方法重写\n"
   ]
  },
  {
   "cell_type": "code",
   "execution_count": 41,
   "id": "2045bb8f",
   "metadata": {},
   "outputs": [
    {
     "name": "stdout",
     "output_type": "stream",
     "text": [
      "调用子类方法\n",
      "调用父类方法\n"
     ]
    }
   ],
   "source": [
    "class Parent:        # 定义父类\n",
    "   def myMethod(self):\n",
    "      print ('调用父类方法')\n",
    " \n",
    "class Child(Parent): # 定义子类\n",
    "   def myMethod(self):\n",
    "      print ('调用子类方法')\n",
    " \n",
    "c = Child()          # 子类实例\n",
    "c.myMethod()         # 子类调用重写方法\n",
    "super(Child,c).myMethod() #用子类对象调用父类已被覆盖的方法"
   ]
  },
  {
   "cell_type": "markdown",
   "id": "8965130f",
   "metadata": {},
   "source": [
    "#### 类属性与方法\n",
    "类的私有属性\n",
    "\n",
    "__private_attrs：两个下划线开头，声明该属性为私有，不能在类的外部被使用或直接访问。在类内部的方法中使用时 self.__private_attrs。\n",
    "类的方法\n",
    "\n",
    "在类的内部，使用 def 关键字来定义一个方法，与一般函数定义不同，类方法必须包含参数 self，且为第一个参数，self 代表的是类的实例。\n",
    "\n",
    "self 的名字并不是规定死的，也可以使用 this，但是最好还是按照约定使用 self。\n",
    "类的私有方法\n",
    "\n",
    "__private_method：两个下划线开头，声明该方法为私有方法，只能在类的内部调用 ，不能在类的外部调用。self.__private_methods。 "
   ]
  },
  {
   "cell_type": "markdown",
   "id": "a4a935e7",
   "metadata": {},
   "source": [
    " 类的专有方法：\n",
    "\n",
    "    __init__ : 构造函数，在生成对象时调用\n",
    "    __del__ : 析构函数，释放对象时使用\n",
    "    __repr__ : 打印，转换\n",
    "    __setitem__ : 按照索引赋值\n",
    "    __getitem__: 按照索引获取值\n",
    "    __len__: 获得长度\n",
    "    __cmp__: 比较运算\n",
    "    __call__: 函数调用\n",
    "    __add__: 加运算\n",
    "    __sub__: 减运算\n",
    "    __mul__: 乘运算\n",
    "    __truediv__: 除运算\n",
    "    __mod__: 求余运算\n",
    "    __pow__: 乘方\n"
   ]
  },
  {
   "cell_type": "markdown",
   "id": "96e14909",
   "metadata": {},
   "source": [
    "#### 重载运算符\n",
    "Python同样支持运算符重载，我们可以对类的专有方法进行重载，实例如下：（注意other）"
   ]
  },
  {
   "cell_type": "code",
   "execution_count": 42,
   "id": "e12e17bf",
   "metadata": {},
   "outputs": [
    {
     "name": "stdout",
     "output_type": "stream",
     "text": [
      "Vector (7, 8)\n"
     ]
    }
   ],
   "source": [
    "\n",
    "#!/usr/bin/python3\n",
    " \n",
    "class Vector:\n",
    "   def __init__(self, a, b):\n",
    "      self.a = a\n",
    "      self.b = b\n",
    " \n",
    "   def __str__(self):\n",
    "      return 'Vector (%d, %d)' % (self.a, self.b)\n",
    "   \n",
    "   def __add__(self,other):\n",
    "      return Vector(self.a + other.a, self.b + other.b)\n",
    " \n",
    "v1 = Vector(2,10)\n",
    "v2 = Vector(5,-2)\n",
    "print (v1 + v2)\n"
   ]
  },
  {
   "cell_type": "markdown",
   "id": "798edb1a",
   "metadata": {},
   "source": [
    "### 12.文件操作"
   ]
  },
  {
   "cell_type": "code",
   "execution_count": 26,
   "id": "2eec9667",
   "metadata": {},
   "outputs": [],
   "source": [
    "# 使用write方法写文件\n",
    "with open(\"f.txt\", \"w\") as f:\n",
    "    f.write( \"www.huawei.com\")"
   ]
  },
  {
   "cell_type": "code",
   "execution_count": 28,
   "id": "14321460",
   "metadata": {},
   "outputs": [
    {
     "name": "stdout",
     "output_type": "stream",
     "text": [
      "www.huawei.com\n"
     ]
    }
   ],
   "source": [
    "# 使用read方法读取\n",
    "with open(\"f.txt\", \"r\") as f:\n",
    "    print(f.read())"
   ]
  },
  {
   "cell_type": "markdown",
   "id": "ebe93c1e",
   "metadata": {},
   "source": [
    "### 13.多线程\n",
    "线程（Thread）也叫轻量级进程，是操作系统能够进行运算调度的最小单位，它被包涵在进程之中，是进程中的实际运作单位。线程自己不拥有系统资源，只拥有一点儿在运行中必不可少的资源，但它可与同属一个进程的其它线程共享进程所拥有的全部资源。一个线程可以创建和撤消另一个线程，同一进程中的多个线程之间可以并发执行"
   ]
  },
  {
   "cell_type": "markdown",
   "id": "52c2f333",
   "metadata": {},
   "source": [
    "#### 线程模块\n",
    "\n",
    "Python3 通过两个标准库 _thread 和 threading 提供对线程的支持。\n",
    "\n",
    "_thread 提供了低级别的、原始的线程以及一个简单的锁，它相比于 threading 模块的功能还是比较有限的。\n",
    "\n",
    "threading 模块除了包含 _thread 模块中的所有方法外，还提供的其他方法：\n",
    "\n",
    "    threading.currentThread(): 返回当前的线程变量。\n",
    "    threading.enumerate(): 返回一个包含正在运行的线程的list。正在运行指线程启动后、结束前，不包括启动前和终止后的线程。\n",
    "    threading.activeCount(): 返回正在运行的线程数量，与len(threading.enumerate())有相同的结果。\n",
    "\n",
    "除了使用方法外，线程模块同样提供了Thread类来处理线程，Thread类提供了以下方法:\n",
    "\n",
    "    run(): 用以表示线程活动的方法。\n",
    "    start():启动线程活动。\n",
    "\n",
    "    join([time]): 等待至线程中止。这阻塞调用线程直至线程的join() 方法被调用中止-正常退出或者抛出未处理的异常-或者是可选的超时发生。\n",
    "    isAlive(): 返回线程是否活动的。\n",
    "    getName(): 返回线程名。\n",
    "    setName(): 设置线程名。\n",
    "\n"
   ]
  },
  {
   "cell_type": "markdown",
   "id": "9c3097bd",
   "metadata": {},
   "source": [
    "#### 使用threading模块创建线程\n",
    "\n",
    "我们可以通过直接从threading Thread继承创建一个新的子类，并实例化后调用start（）方法启动线程，即调用线程run（）方法"
   ]
  },
  {
   "cell_type": "code",
   "execution_count": 43,
   "id": "346fd5d3",
   "metadata": {},
   "outputs": [
    {
     "name": "stdout",
     "output_type": "stream",
     "text": [
      "开始线程：Thread-1\n",
      "开始线程：Thread-2\n",
      "Thread-1: Wed Nov 10 21:10:36 2021\n",
      "Thread-2: Wed Nov 10 21:10:37 2021\n",
      "Thread-1: Wed Nov 10 21:10:37 2021\n",
      "Thread-1: Wed Nov 10 21:10:38 2021\n",
      "Thread-2: Wed Nov 10 21:10:39 2021\n",
      "Thread-1: Wed Nov 10 21:10:39 2021\n",
      "Thread-1: Wed Nov 10 21:10:40 2021\n",
      "退出线程：Thread-1\n",
      "Thread-2: Wed Nov 10 21:10:41 2021\n",
      "Thread-2: Wed Nov 10 21:10:43 2021\n",
      "Thread-2: Wed Nov 10 21:10:45 2021\n",
      "退出线程：Thread-2\n",
      "退出主线程\n"
     ]
    }
   ],
   "source": [
    "import threading\n",
    "import time\n",
    "\n",
    "exitFlag = 0\n",
    "\n",
    "class myThread (threading.Thread):\n",
    "    def __init__(self, threadID, name, counter):\n",
    "        threading.Thread.__init__(self)\n",
    "        self.threadID = threadID\n",
    "        self.name = name\n",
    "        self.counter = counter\n",
    "    def run(self):\n",
    "        print (\"开始线程：\" + self.name)\n",
    "        print_time(self.name, self.counter, 5)\n",
    "        print (\"退出线程：\" + self.name)\n",
    "\n",
    "def print_time(threadName, delay, counter):\n",
    "    while counter:\n",
    "        if exitFlag:\n",
    "            threadName.exit()\n",
    "        time.sleep(delay)\n",
    "        print (\"%s: %s\" % (threadName, time.ctime(time.time())))\n",
    "        counter -= 1\n",
    "\n",
    "# 创建新线程\n",
    "thread1 = myThread(1, \"Thread-1\", 1)\n",
    "thread2 = myThread(2, \"Thread-2\", 2)\n",
    "\n",
    "# 开启新线程\n",
    "thread1.start()\n",
    "thread2.start()\n",
    "thread1.join()\n",
    "thread2.join()\n",
    "print (\"退出主线程\")"
   ]
  },
  {
   "cell_type": "code",
   "execution_count": 44,
   "id": "8d73e674",
   "metadata": {},
   "outputs": [
    {
     "name": "stdout",
     "output_type": "stream",
     "text": [
      "---开始---:Wed Nov 10 21:28:48 2021\n",
      "work1正在执行...0\n",
      "work2正在执行...0\n",
      "work2正在执行...1work1正在执行...1\n",
      "\n",
      "work2正在执行...2work1正在执行...2\n",
      "\n",
      "work2正在执行...3work1正在执行...3\n",
      "\n",
      "work1正在执行...4work2正在执行...4\n",
      "\n",
      "---结束---:Wed Nov 10 21:28:53 2021\n"
     ]
    }
   ],
   "source": [
    "import threading  #导入threading模块\n",
    "\n",
    "from time import sleep, ctime  #导入时间模块\n",
    "\n",
    "def work1():  #定义方法\n",
    "    for i in range(5):\n",
    "        print(\"work1正在执行...%d\"%i)\n",
    "        sleep(1)\n",
    "\n",
    "def work2(): #定义方法\n",
    "    for i in range(5):\n",
    "        print(\"work2正在执行...%d\"%i)\n",
    "        sleep(1)\n",
    "\n",
    "if __name__ == '__main__':\n",
    "    print('---开始---:%s'%ctime())\n",
    "\n",
    "    t1 = threading.Thread(target=work1)# 线程1\n",
    "    t2 = threading.Thread(target=work2)# 线程2\n",
    "    \n",
    "    # 启动线程\n",
    "    t1.start()\n",
    "    t2.start()\n",
    "\n",
    "    sleep(5)\n",
    "print('---结束---:%s'%ctime())"
   ]
  },
  {
   "cell_type": "code",
   "execution_count": 45,
   "id": "5dfab4aa",
   "metadata": {},
   "outputs": [
    {
     "name": "stdout",
     "output_type": "stream",
     "text": [
      "---test1---g_num=1576341\n",
      "---test2---g_num=2000000\n",
      "2个线程对同一个全局变量操作之后的最终结果是:2000000\n"
     ]
    }
   ],
   "source": [
    "import threading\n",
    "import time\n",
    "g_num = 0\n",
    "\n",
    "def test1(num):\n",
    "    global g_num\t# 使用全局变量\n",
    "    for i in range(num):\n",
    "        mutex.acquire()  # 上锁\n",
    "        g_num += 1\n",
    "        mutex.release()  # 解锁\n",
    "    print(\"---test1---g_num=%d\"%g_num)\n",
    "\n",
    "def test2(num):\n",
    "    global g_num\n",
    "    for i in range(num):\n",
    "        mutex.acquire()  # 上锁\n",
    "        g_num += 1\n",
    "        mutex.release()  # 解锁\n",
    "\n",
    "    print(\"---test2---g_num=%d\"%g_num)\n",
    "\n",
    "# 创建一个互斥锁\n",
    "# 默认是未上锁的状态，可以删除锁后查看资源争夺的结果\n",
    "mutex = threading.Lock()\n",
    "\n",
    "# 创建2个线程，让他们各自对g_num加1000000次\n",
    "p1 = threading.Thread(target=test1, args=(1000000,))\n",
    "p1.start()\n",
    "\n",
    "p2 = threading.Thread(target=test2, args=(1000000,))\n",
    "p2.start()\n",
    "\n",
    "# 等待计算完成\n",
    "time.sleep(5)\n",
    "\n",
    "print(\"2个线程对同一个全局变量操作之后的最终结果是:%s\" % g_num)"
   ]
  },
  {
   "cell_type": "markdown",
   "id": "b78fba49",
   "metadata": {},
   "source": [
    "#### 14.正则表达式\n",
    "正则表达式是一个强大的字符串处理工具,几乎任何关于字符串的操作都可以用正则表达式累完成"
   ]
  },
  {
   "cell_type": "code",
   "execution_count": 48,
   "id": "674aa6df",
   "metadata": {},
   "outputs": [
    {
     "name": "stdout",
     "output_type": "stream",
     "text": [
      "(0, 3)\n",
      "None\n"
     ]
    }
   ],
   "source": [
    "import re  #导入正则表达式模块\n",
    "print(re.match('www', 'www.huawei.com').span())  # 在起始位置匹配\n",
    "print(re.match('com', 'www.huawei.com'))        # 不在起始位置匹配"
   ]
  },
  {
   "cell_type": "code",
   "execution_count": 49,
   "id": "1dfba436",
   "metadata": {},
   "outputs": [
    {
     "name": "stdout",
     "output_type": "stream",
     "text": [
      "searchObj.group() :  Cats are smarter than dogs\n",
      "searchObj.group(1) :  Cats\n",
      "searchObj.group(2) :  smarter\n"
     ]
    }
   ],
   "source": [
    "import re\n",
    "line = \"Cats are smarter than dogs\"\n",
    "searchObj = re.search( r'(.*) are (.*?) .*', line, re.M|re.I)  #重头开始扫描整个字符串\n",
    "\n",
    "if searchObj:\n",
    "    print(\"searchObj.group() : \", searchObj.group())\n",
    "    print(\"searchObj.group(1) : \", searchObj.group(1))\n",
    "    print(\"searchObj.group(2) : \", searchObj.group(2))\n",
    "else:\n",
    "    print(\"Nothing found!!\" )"
   ]
  },
  {
   "cell_type": "code",
   "execution_count": 50,
   "id": "9d5ea3c8",
   "metadata": {},
   "outputs": [
    {
     "name": "stdout",
     "output_type": "stream",
     "text": [
      "电话号码是:  2019-0101-000 \n",
      "电话号码是 :  20190101000\n"
     ]
    }
   ],
   "source": [
    "import re \n",
    "phone = \"2019-0101-000 # 这是一个电话号码\"\n",
    "\n",
    "# 删除字符串中的 Python注释 \n",
    "num = re.sub(r'#.*$', \"\", phone)\n",
    "print(\"电话号码是: \", num)\n",
    "\n",
    "# 删除非数字(-)的字符串 \n",
    "num = re.sub(r'\\D', \"\", phone)\n",
    "print(\"电话号码是 : \", num)\n"
   ]
  },
  {
   "cell_type": "code",
   "execution_count": 52,
   "id": "a2ad160a",
   "metadata": {},
   "outputs": [
    {
     "name": "stdout",
     "output_type": "stream",
     "text": [
      "None\n",
      "<re.Match object; span=(3, 5), match='12'>\n",
      "12\n"
     ]
    }
   ],
   "source": [
    "import re\n",
    "pattern = re.compile(r'\\d+')                    # 用于匹配至少一个数字\n",
    "n = pattern.match('one12twothree34four')        # 查找头部，没有匹配\n",
    "print(n)\n",
    "\n",
    "m = pattern.search('one12twothree34four') # 从'e'的位置开始匹配，没有匹配\n",
    "print(m)\n",
    "print(m.group())"
   ]
  }
 ],
 "metadata": {
  "kernelspec": {
   "display_name": "Python 3",
   "language": "python",
   "name": "python3"
  },
  "language_info": {
   "codemirror_mode": {
    "name": "ipython",
    "version": 3
   },
   "file_extension": ".py",
   "mimetype": "text/x-python",
   "name": "python",
   "nbconvert_exporter": "python",
   "pygments_lexer": "ipython3",
   "version": "3.8.8"
  }
 },
 "nbformat": 4,
 "nbformat_minor": 5
}
