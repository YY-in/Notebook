{
 "cells": [
  {
   "cell_type": "markdown",
   "id": "cc921102-7baf-4103-b511-2970a7e63293",
   "metadata": {},
   "source": [
    "# 数据分析处理库Pandas"
   ]
  },
  {
   "cell_type": "markdown",
   "id": "ec6d4eac-9eef-467e-9969-ebec87792ebb",
   "metadata": {},
   "source": [
    "学习目的：\n",
    "1. 掌握pandas的数据结构dataframe，serial的基本操作\n",
    "2. 熟悉pandas对表格数据的简单操作\n",
    "3. 掌握pandas处理缺失值的方法\n",
    "4. 熟悉pands中的时间序列"
   ]
  },
  {
   "cell_type": "markdown",
   "id": "55953649-f019-47f5-a8f5-cf99c15b6f82",
   "metadata": {},
   "source": [
    "## Pandas介绍\n",
    "在Python中对数据进行处理时，经常会使用到Pandas这个库，它提供了诸多的数据处理方法和时间序列的操作方法，是当下最重要的Python 科学运算模块之一。\n",
    "\n",
    "pandas含有使数据清洗和分析工作变得更快更简单的数据结构和操作工具。\n",
    "\n",
    "pandas会经常和其它工具一同使用，如数值计算工具NumPy和SciPy，分析库statsmodels和scikit-learn，和数据可视化库matplotlib。\n",
    "\n",
    "pandas是基于NumPy数组构建的，特别是基于数组的函数和不使用for循环的数据处理。\n",
    "\n",
    "虽然pandas采用了大量的NumPy编码风格，但二者最大的不同是pandas是专门为处理表格和混杂数据设计的。而NumPy更适合处理统一的数值数组数据。\n"
   ]
  },
  {
   "cell_type": "markdown",
   "id": "dd29a045-847e-4356-bec1-c82dbacfe3bf",
   "metadata": {},
   "source": [
    "## 1. Pandas的数据结构\n",
    "### 1.1 Series\n",
    "    Series 可简单的看作是一维数组\n",
    "    Series 具有索引（index）\n",
    "    Series 可以使用字典、数组等数据进行创建\n",
    "### 1.2 DataFrame \n",
    "    DataFrame是由数个series按行合并而成的二维数据结构（表格型）\n",
    "    具有行索引和列索引\n",
    "    可以使用字典，数组，series等数据结构进行创建"
   ]
  }
 ],
 "metadata": {
  "kernelspec": {
   "display_name": "Python 3",
   "language": "python",
   "name": "python3"
  },
  "language_info": {
   "codemirror_mode": {
    "name": "ipython",
    "version": 3
   },
   "file_extension": ".py",
   "mimetype": "text/x-python",
   "name": "python",
   "nbconvert_exporter": "python",
   "pygments_lexer": "ipython3",
   "version": "3.8.8"
  }
 },
 "nbformat": 4,
 "nbformat_minor": 5
}
