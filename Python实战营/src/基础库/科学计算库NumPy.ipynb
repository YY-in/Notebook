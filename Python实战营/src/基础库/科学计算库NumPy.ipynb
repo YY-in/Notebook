{
 "cells": [
  {
   "cell_type": "markdown",
   "id": "d3df9279",
   "metadata": {},
   "source": [
    "# 科学计算库NumPy"
   ]
  },
  {
   "cell_type": "markdown",
   "id": "86f96583",
   "metadata": {},
   "source": [
    "1. 了解 NumPy 数组和矩阵的使用方法；\n",
    "\n",
    "2. 了解 NumPy 随机模块的使用方法；\n",
    "\n",
    "3. 了解 NumPy 常用的数学函数。"
   ]
  },
  {
   "cell_type": "markdown",
   "id": "f782c873",
   "metadata": {},
   "source": [
    "NumPy是一个在Python中做科学计算的基础库，重在数值计算，也是大部分Python科学计算库的基础库，多用于在大型、多维数组上执行数值运算。  \n",
    "NumPy 通常与 SciPy（Scientific Python）和 Matplotlib（绘图库）一起使用，这种组合广泛用于替代 MatLab，是一个强大的科学计算环境，有助于我们通过 Python 学习数据科学或者机器学习。\n",
    "\n",
    "SciPy 是一个开源的 Python 算法库和数学工具包，包含的模块有最优化、线性代数、积分、插值、特殊函数、快速傅里叶变换、信号处理和图像处理、常微分方程求解和其他科学与工程中常用的计算。\n",
    "\n",
    "Matplotlib 是 Python 编程语言及其数值数学扩展包 NumPy 的可视化操作界面。"
   ]
  },
  {
   "cell_type": "markdown",
   "id": "168c9d92",
   "metadata": {},
   "source": [
    "### 1. 数组\n",
    "\n",
    "**步骤 1\t导入numpy模块**"
   ]
  },
  {
   "cell_type": "code",
   "execution_count": 3,
   "id": "cc07cbb6",
   "metadata": {},
   "outputs": [],
   "source": [
    "import numpy as np"
   ]
  },
  {
   "cell_type": "markdown",
   "id": "3d50e11c",
   "metadata": {},
   "source": [
    "**步骤 2\t创建数组**"
   ]
  },
  {
   "cell_type": "markdown",
   "id": "ba292fff",
   "metadata": {},
   "source": [
    "| **数组生成方法（numpy简写为np）**                            | **使用详情**                                                 |\n",
    "| :-----------------------------------------------------------: | :------------------------------------------------------------: |\n",
    "| np.array(object, dtype=None, copy=True,)                     | 创建一个数组对象。                                           |\n",
    "| np.zeros(shape, dtype=float, order='C')                      | 创建一个形状为shape的全零数组。dtype为数据类型。order=C代表与c语言类似，行优先;order=F代表列优先 |\n",
    "| np.ones(shape, dtype=None, order='C')                        | 创建一个全1数组，和np.zeros()类似。                          |\n",
    "| np.eye(N, M=None, k=0, dtype=float, order='C')               | 生成一个类似于对角矩阵的数组，N为行数；M为列数，默认和N一样；k为对角线的索引，0代表主对角线。 |\n",
    "| np.empty(shape, dtype=float, order='C')                      | 生成一个未初始化的数组                                       |\n",
    "| np.asarray(a, dtype = None, order = None)                    | 将数据转化为数组。a:输入数据,dtype：数据类型，一般默认为数据本身类型，可选（区别于array，asarray会直接修改源数据） |\n",
    "| np.arange(start, stop, step, dtype)                          | 生成一个等间隔的数组。  start：起始范围，默认为0，；stop：终止范围  step：前后间隔，默认为1；dtype：数据类型。 |\n",
    "| np.linspace(start, stop, num=50, endpoint=True,  retstep=False, dtype=None, axis=0) | 生成一个等间隔的数组，start起始值，stop终止值，num数量，endpoint=True表示stop为最后一个值。 |"
   ]
  },
  {
   "cell_type": "code",
   "execution_count": 4,
   "id": "b3eacb61",
   "metadata": {},
   "outputs": [
    {
     "name": "stdout",
     "output_type": "stream",
     "text": [
      "一维数组： [1 2 3 4 5 6]\n",
      "多维数组： [[1 2 3]\n",
      " [4 5 6]]\n",
      "全零数组： [[0. 0.]\n",
      " [0. 0.]]\n",
      "全一数组： [[1. 1.]\n",
      " [1. 1.]]\n",
      "[[1. 0.]\n",
      " [0. 1.]]\n",
      "一维数组： [1 2 3 4 5 6]\n",
      "等间隔数组 [10 12 14 16 18]\n",
      "[  0.          11.11111111  22.22222222  33.33333333  44.44444444\n",
      "  55.55555556  66.66666667  77.77777778  88.88888889 100.        ]\n"
     ]
    }
   ],
   "source": [
    "a = np.array([1,2,3,4,5,6])  # 一维数组\n",
    "print(\"一维数组：\", a)\n",
    "\n",
    "b = np.array([[1,2,3],[4,5,6]])  # 多维数组\n",
    "print(\"多维数组：\" ,b)\n",
    "\n",
    "c = np.zeros([2,2])  # 创建一个2*2的全0数组\n",
    "print(\"全零数组：\",c)\n",
    "\n",
    "d = np.ones([2,2])  # 创建一个2*2的全1数组\n",
    "print(\"全一数组：\",d)\n",
    "\n",
    "print(np.eye(2))\n",
    "\n",
    "e = np.asarray([1,2,3,4,5,6])  # 一维数组\n",
    "print(\"一维数组：\", e)\n",
    "\n",
    "f = np.arange(10,20,2)  # 一维等间隔数组\n",
    "print(\"等间隔数组\", f)\n",
    "\n",
    "g = np.linspace(0,100,10)  # 一维等间隔数组\n",
    "print(g)"
   ]
  },
  {
   "cell_type": "markdown",
   "id": "e819a065",
   "metadata": {},
   "source": [
    "**步骤 3\t数组属性**"
   ]
  },
  {
   "cell_type": "code",
   "execution_count": 5,
   "id": "84c3a87e",
   "metadata": {},
   "outputs": [
    {
     "name": "stdout",
     "output_type": "stream",
     "text": [
      "2\n",
      "shape = (3, 2)\n",
      "shape_row = 3\n",
      "size = 6\n",
      "size_column = 3\n",
      "len = 3\n",
      "2\n"
     ]
    }
   ],
   "source": [
    "a = np.array([[1,2], [3,4], [5,6]])\n",
    "\n",
    "print(a.ndim)  # 数组维度\n",
    "print('shape =', a.shape)  # 数组的形状\n",
    "print('shape_row =', a.shape[0])  # 数组第一维度上的大小,即行数\n",
    "print('size =', a.size)  #数组元素的个数\n",
    "print('size_column =', np.size(a,0))  # 行数\n",
    "print('len =', len(a))  # 数组第一维度的大小，即行数\n",
    "\n",
    "b = a.reshape(2,3)\n",
    "print(b.ndim)"
   ]
  },
  {
   "cell_type": "markdown",
   "id": "9e90479f",
   "metadata": {},
   "source": [
    "**步骤 4\t数组常用操作**"
   ]
  },
  {
   "cell_type": "code",
   "execution_count": 9,
   "id": "2b78bc6c",
   "metadata": {},
   "outputs": [
    {
     "name": "stdout",
     "output_type": "stream",
     "text": [
      "[0 1 2 3 4 5 6 7 8 9]\n",
      "[2 4 6]\n",
      "[2 3 4 5 6 7]\n",
      "2\n",
      "[2 3 4 5 6 7 8 9]\n"
     ]
    }
   ],
   "source": [
    "a = np.arange(10)  # 创建数组\n",
    "print(a)\n",
    "print(a[2:8:2])    # 切片下标为2开始到8结束（不取8），步长为2\n",
    "print(a[2:8])\n",
    "print(a[2])\n",
    "print(a[2:])"
   ]
  },
  {
   "cell_type": "code",
   "execution_count": 8,
   "id": "aa7e9d47",
   "metadata": {},
   "outputs": [
    {
     "name": "stdout",
     "output_type": "stream",
     "text": [
      "[[False False]\n",
      " [ True  True]]\n",
      "[3 4]\n"
     ]
    }
   ],
   "source": [
    "a = np.array([[1, 2], [3, 4]])\n",
    "b\n",
    "print(a > 2)\n",
    "print (a[a > 2])"
   ]
  },
  {
   "cell_type": "markdown",
   "id": "f6a46858",
   "metadata": {},
   "source": [
    "reshape操作：改变数组维度。"
   ]
  },
  {
   "cell_type": "code",
   "execution_count": 10,
   "id": "75921328",
   "metadata": {},
   "outputs": [
    {
     "name": "stdout",
     "output_type": "stream",
     "text": [
      "a:\n",
      " [[1 2]\n",
      " [3 4]\n",
      " [5 6]]\n",
      "reshape:\n",
      " [[1 2 3]\n",
      " [4 5 6]]\n"
     ]
    }
   ],
   "source": [
    "a = np.array([[1,2], [3,4], [5,6]])\n",
    "print(\"a:\\n\", a)\n",
    "\n",
    "b = a.reshape(2, 3)\n",
    "print(\"reshape:\\n\", b)"
   ]
  },
  {
   "cell_type": "markdown",
   "id": "ce2f14d2",
   "metadata": {},
   "source": [
    "squeeze 操作：从数组的形状中删除单维度条目，即把shape中为1的维度去掉\n",
    "\n",
    "用法：numpy.squeeze(a,axis = None)"
   ]
  },
  {
   "cell_type": "code",
   "execution_count": 11,
   "id": "344e874c",
   "metadata": {},
   "outputs": [
    {
     "name": "stdout",
     "output_type": "stream",
     "text": [
      "a:\n",
      " [0 1 2 3 4 5 6 7 8 9] \n",
      " (10,)\n",
      "b:\n",
      " [[[0 1 2 3 4 5 6 7 8 9]]] \n",
      " (1, 1, 10)\n",
      "c:\n",
      " [0 1 2 3 4 5 6 7 8 9] \n",
      " (10,)\n"
     ]
    }
   ],
   "source": [
    "import numpy as np\n",
    "\n",
    "a = np.arange(10)\n",
    "print(\"a:\\n\", a, \"\\n\", a.shape)\n",
    "\n",
    "b = a.reshape(1,1,10)\n",
    "print(\"b:\\n\", b, \"\\n\", b.shape)\n",
    "\n",
    "c = np.squeeze(b)\n",
    "print(\"c:\\n\", c, \"\\n\", c.shape)"
   ]
  },
  {
   "cell_type": "markdown",
   "id": "c7e40a06",
   "metadata": {},
   "source": [
    "广播\n",
    "\n",
    "广播(Boardcasting)是NumPy中用于在不同大小的阵列（包括标量与向量，标量与二维数组，向量与二维数组，二维数组与高维数组等）之间进行逐元素运算（例如，逐元素 加法，减法，乘法，赋值等）的一组规则。\n",
    "两个array的shape长度与shape的每个对应值都相等的时候，那么结果就是对应元素逐元素运算，运算的结果shape不变。\n"
   ]
  },
  {
   "cell_type": "code",
   "execution_count": 12,
   "id": "691cedb1",
   "metadata": {},
   "outputs": [
    {
     "name": "stdout",
     "output_type": "stream",
     "text": [
      "[ 1  4  9 16]\n"
     ]
    }
   ],
   "source": [
    "a = np.array([1,2,3,4])\n",
    "b = np.array([1,2,3,4])\n",
    "c = a * b\n",
    "\n",
    "print(c)"
   ]
  },
  {
   "cell_type": "markdown",
   "id": "15c13beb",
   "metadata": {},
   "source": [
    "shape长度不相等时，先把短的shape前面一直补1，直到与长的shape长度相等时，此时，两个array的shape对应位置上的值 ：1、相等 或 2、其中一个为1，这样才能进行广播。"
   ]
  },
  {
   "cell_type": "code",
   "execution_count": 13,
   "id": "06d945a2",
   "metadata": {},
   "outputs": [
    {
     "name": "stdout",
     "output_type": "stream",
     "text": [
      "a:\n",
      " [[[ 0  1  2]\n",
      "  [ 3  4  5]\n",
      "  [ 6  7  8]]\n",
      "\n",
      " [[ 9 10 11]\n",
      "  [12 13 14]\n",
      "  [15 16 17]]\n",
      "\n",
      " [[18 19 20]\n",
      "  [21 22 23]\n",
      "  [24 25 26]]]\n",
      "广播之后：\n",
      " [[[ 1  3  5]\n",
      "  [ 4  6  8]\n",
      "  [ 7  9 11]]\n",
      "\n",
      " [[10 12 14]\n",
      "  [13 15 17]\n",
      "  [16 18 20]]\n",
      "\n",
      " [[19 21 23]\n",
      "  [22 24 26]\n",
      "  [25 27 29]]]\n"
     ]
    }
   ],
   "source": [
    "a = np.arange(27).reshape((3,3,3))\n",
    "print(\"a:\\n\", a)\n",
    "\n",
    "b = np.array([[1,2,3]])\n",
    "c = a + b\n",
    "print(\"广播之后：\\n\", c)"
   ]
  },
  {
   "cell_type": "markdown",
   "id": "d9c9ad6c",
   "metadata": {},
   "source": [
    "**步骤 5\t常用函数**\n",
    "\n",
    "**flat函数**：按照下标取元素，在多维数组中也可以直接取到对应的元素。"
   ]
  },
  {
   "cell_type": "code",
   "execution_count": 14,
   "id": "0a0587b5",
   "metadata": {},
   "outputs": [
    {
     "name": "stdout",
     "output_type": "stream",
     "text": [
      "a\n",
      " [[0 1 2]\n",
      " [3 4 5]]\n",
      "a[1]\n",
      " [3 4 5]\n",
      "a.flat[1]\n",
      " 1\n"
     ]
    }
   ],
   "source": [
    "a = np.arange(6).reshape(2, 3)\n",
    "\n",
    "print(\"a\\n\", a)\n",
    "print(\"a[1]\\n\", a[1])\n",
    "print(\"a.flat[1]\\n\", a.flat[1])"
   ]
  },
  {
   "cell_type": "markdown",
   "id": "ce68e79c",
   "metadata": {},
   "source": [
    "**transpose函数**：根据数组的行列索引值对数据进行转换（二维数组默认是转置）"
   ]
  },
  {
   "cell_type": "code",
   "execution_count": 16,
   "id": "3d3dac8d",
   "metadata": {},
   "outputs": [
    {
     "name": "stdout",
     "output_type": "stream",
     "text": [
      "a= [[[ 0  1  2]\n",
      "  [ 3  4  5]]\n",
      "\n",
      " [[ 6  7  8]\n",
      "  [ 9 10 11]]]\n",
      "b= [[[ 0  3]\n",
      "  [ 6  9]]\n",
      "\n",
      " [[ 1  4]\n",
      "  [ 7 10]]\n",
      "\n",
      " [[ 2  5]\n",
      "  [ 8 11]]]\n"
     ]
    }
   ],
   "source": [
    "a = np.arange(12).reshape(2, 2, 3)\n",
    "b=np.transpose(a, (2,0,1))\n",
    "\n",
    "print('a=', a)\n",
    "print('b=', b)"
   ]
  },
  {
   "cell_type": "markdown",
   "id": "b74f0a7f",
   "metadata": {},
   "source": [
    "**concentrate（np.concatenate((a1,a2,a3,...), axis=0)）函数**：按照特定方向轴进行拼接，默认是列。help(print)"
   ]
  },
  {
   "cell_type": "code",
   "execution_count": 17,
   "id": "3e317dde",
   "metadata": {},
   "outputs": [
    {
     "name": "stdout",
     "output_type": "stream",
     "text": [
      "a= [[0 1 2]\n",
      " [3 4 5]]\n",
      "b= [[ 7  8  9]\n",
      " [10 11 12]]\n",
      "c= [[ 0  1  2]\n",
      " [ 3  4  5]\n",
      " [ 7  8  9]\n",
      " [10 11 12]]\n",
      "d= [[ 0  1  2  7  8  9]\n",
      " [ 3  4  5 10 11 12]]\n"
     ]
    }
   ],
   "source": [
    "a = np.arange(6).reshape(2, 3)\n",
    "b = np.arange(7, 13).reshape(2, 3)\n",
    "c = np.concatenate((a, b))\n",
    "d = np.concatenate((a, b),axis = 1)  # axis=1：按行拼接\n",
    "\n",
    "print('a=', a)\n",
    "print('b=', b)\n",
    "print('c=', c)\n",
    "print('d=', d)"
   ]
  },
  {
   "cell_type": "markdown",
   "id": "7833f19b",
   "metadata": {},
   "source": [
    "**stack函数（numpy.stack(arrays,axis=0)）**：用于堆叠数组，arrays是用于堆叠的数组，asix堆叠的方向。"
   ]
  },
  {
   "cell_type": "code",
   "execution_count": 18,
   "id": "bb817ab9",
   "metadata": {},
   "outputs": [
    {
     "name": "stdout",
     "output_type": "stream",
     "text": [
      "a= [[1 2]\n",
      " [3 4]]\n",
      "b= [[5 6]\n",
      " [7 8]]\n",
      "c= [[[1 2]\n",
      "  [3 4]]\n",
      "\n",
      " [[5 6]\n",
      "  [7 8]]]\n",
      "d= [[[1 2]\n",
      "  [5 6]]\n",
      "\n",
      " [[3 4]\n",
      "  [7 8]]]\n"
     ]
    }
   ],
   "source": [
    "a = np.array([[1,2], [3,4]])\n",
    "b = np.array([[5,6], [7,8]])\n",
    "c = np.stack((a,b), 0)\n",
    "d = np.stack((a,b), 1)\n",
    "\n",
    "print('a=', a)\n",
    "print('b=', b)\n",
    "print('c=', c)\n",
    "print('d=', d)"
   ]
  },
  {
   "cell_type": "markdown",
   "id": "086532ef",
   "metadata": {},
   "source": [
    "**delete函数（numpy.delete(arr, obj, axis=None)）**：返回删除obj处数据后的值，不会改变原来的数据。"
   ]
  },
  {
   "cell_type": "code",
   "execution_count": 19,
   "id": "2a0ce510",
   "metadata": {},
   "outputs": [
    {
     "name": "stdout",
     "output_type": "stream",
     "text": [
      "a= [[0 1 2]\n",
      " [3 4 5]]\n",
      "b= [0 1 3 4 5]\n",
      "c= [[0 2]\n",
      " [3 5]]\n"
     ]
    }
   ],
   "source": [
    "a = np.arange(6).reshape(2, 3)\n",
    "b = np.delete(a, 2)\n",
    "c = np.delete(a, 1, axis=1)\n",
    "print('a=', a)\n",
    "print('b=', b)\n",
    "print('c=', c)"
   ]
  },
  {
   "cell_type": "markdown",
   "id": "4053210f",
   "metadata": {},
   "source": [
    "### 2.矩阵"
   ]
  },
  {
   "cell_type": "markdown",
   "id": "7d3212ef",
   "metadata": {},
   "source": [
    "**步骤 1\t导入numpy模块**"
   ]
  },
  {
   "cell_type": "code",
   "execution_count": 20,
   "id": "03c9c65c",
   "metadata": {},
   "outputs": [],
   "source": [
    "import numpy.matlib\n",
    "import numpy as np"
   ]
  },
  {
   "cell_type": "markdown",
   "id": "62953a26",
   "metadata": {},
   "source": [
    "**步骤 2\t创建数组**"
   ]
  },
  {
   "cell_type": "code",
   "execution_count": 21,
   "id": "345b6793",
   "metadata": {},
   "outputs": [
    {
     "name": "stdout",
     "output_type": "stream",
     "text": [
      "a= [[0. 0.]\n",
      " [0. 0.]]\n",
      "b= [[1. 1.]\n",
      " [1. 1.]]\n"
     ]
    }
   ],
   "source": [
    "a=np.matlib.zeros((2,2))  # 全零矩阵\n",
    "b=np.matlib.ones((2,2))   # 全一矩阵\n",
    "\n",
    "print('a=',a)\n",
    "print('b=',b)"
   ]
  },
  {
   "cell_type": "markdown",
   "id": "3dded3d1",
   "metadata": {},
   "source": [
    "对角矩阵"
   ]
  },
  {
   "cell_type": "code",
   "execution_count": 22,
   "id": "cf91f039",
   "metadata": {},
   "outputs": [
    {
     "name": "stdout",
     "output_type": "stream",
     "text": [
      "c= [[1. 0. 0.]\n",
      " [0. 1. 0.]\n",
      " [0. 0. 1.]]\n"
     ]
    }
   ],
   "source": [
    "c=np.matlib.eye(3)\n",
    "\n",
    "print('c=', c)"
   ]
  },
  {
   "cell_type": "markdown",
   "id": "d9e98ab6",
   "metadata": {},
   "source": [
    "数组转化为矩阵"
   ]
  },
  {
   "cell_type": "code",
   "execution_count": 23,
   "id": "4dbb4c4c",
   "metadata": {},
   "outputs": [
    {
     "name": "stdout",
     "output_type": "stream",
     "text": [
      "[[0. 0.]\n",
      " [0. 0.]]\n",
      "<class 'numpy.matrix'>\n"
     ]
    }
   ],
   "source": [
    "d = np.array([[1,2], [3,4]])\n",
    "d = np.mat(a)\n",
    "\n",
    "print(d)\n",
    "print(type(d))"
   ]
  },
  {
   "cell_type": "markdown",
   "id": "3c6cdf8b",
   "metadata": {},
   "source": [
    "随机生成矩阵："
   ]
  },
  {
   "cell_type": "markdown",
   "id": "04879654",
   "metadata": {},
   "source": [
    "a=np.matlib.rand(3, 3)\n",
    "print('a=',a)"
   ]
  },
  {
   "cell_type": "markdown",
   "id": "6d05a9d4",
   "metadata": {},
   "source": [
    "numpy命名空间 mat/matrix/asmatrix函数："
   ]
  },
  {
   "cell_type": "code",
   "execution_count": 25,
   "id": "7eff9bd1",
   "metadata": {},
   "outputs": [
    {
     "name": "stdout",
     "output_type": "stream",
     "text": [
      "array a= [1 2 3]\n",
      "matrix b= [[1 2 3]]\n",
      "matrix c= [[1 2 3]]\n",
      "matrix d= [[1 2 3]]\n"
     ]
    }
   ],
   "source": [
    "a=np.array([1,2,3])   \n",
    "b=np.mat(a)       # 三个函数功能类似\n",
    "d=np.asmatrix(a)  # matrix和asmatrix的区别在于asmatrix处理矩阵或数组时不复制\n",
    "c=np.matrix(a)    # 类似array和asarray\n",
    "\n",
    "print('array a=', a)\n",
    "print('matrix b=', b)\n",
    "print('matrix c=', c)\n",
    "print('matrix d=', d)"
   ]
  },
  {
   "cell_type": "markdown",
   "id": "488e2abb",
   "metadata": {},
   "source": [
    "**步骤 3\t矩阵运算**"
   ]
  },
  {
   "cell_type": "code",
   "execution_count": 26,
   "id": "7cd2734d",
   "metadata": {},
   "outputs": [
    {
     "name": "stdout",
     "output_type": "stream",
     "text": [
      "matrix a= [[1]\n",
      " [2]\n",
      " [3]]\n",
      "matrix b= [[1 2 3]]\n",
      "matrix c= [[1 2 3]\n",
      " [2 4 6]\n",
      " [3 6 9]]\n",
      "matrix d= [[1 2 3]\n",
      " [2 4 6]\n",
      " [3 6 9]]\n"
     ]
    }
   ],
   "source": [
    "a=np.mat([[1], [2], [3]])\n",
    "b=np.mat([1,2,3])\n",
    "c=a * b          # 星乘(*)和点乘(dot)都是从ndarray类中继承而来的\n",
    "d=np.dot(a,b)  # 星乘(*)对于数组和矩阵而言进行的操作不同     \n",
    "\n",
    "print('matrix a=', a)\n",
    "print('matrix b=', b)\n",
    "print('matrix c=', c)\n",
    "print('matrix d=', d)"
   ]
  },
  {
   "cell_type": "markdown",
   "id": "e1eeb1bb",
   "metadata": {},
   "source": [
    "对应元素相乘："
   ]
  },
  {
   "cell_type": "code",
   "execution_count": 27,
   "id": "7d5508aa",
   "metadata": {},
   "outputs": [
    {
     "name": "stdout",
     "output_type": "stream",
     "text": [
      "matrix a= [[1 2 3]]\n",
      "matrix b= [[1 2 3]]\n",
      "matrix c= [[1 4 9]]\n",
      "matrix d= [[2 4 6]]\n"
     ]
    }
   ],
   "source": [
    "a = np.mat([1,2,3])\n",
    "b = a\n",
    "c = np.multiply(a, b)\n",
    "d = a * 2\n",
    "\n",
    "print('matrix a=', a)\n",
    "print('matrix b=', b)\n",
    "print('matrix c=', c)\n",
    "print('matrix d=', d)"
   ]
  },
  {
   "cell_type": "markdown",
   "id": "1aa5b8db",
   "metadata": {},
   "source": [
    "矩阵求逆："
   ]
  },
  {
   "cell_type": "code",
   "execution_count": 28,
   "id": "3529c15e",
   "metadata": {},
   "outputs": [
    {
     "name": "stdout",
     "output_type": "stream",
     "text": [
      "matrix a= [[2 0 0]\n",
      " [0 1 0]\n",
      " [0 0 2]]\n",
      "matrix b= [[0.5 0.  0. ]\n",
      " [0.  1.  0. ]\n",
      " [0.  0.  0.5]]\n"
     ]
    }
   ],
   "source": [
    "a = np.matrix([[2,0,0],\n",
    "             [0,1,0],\n",
    "             [0,0,2]])\n",
    "b = a.I\n",
    "\n",
    "print('matrix a=', a)\n",
    "print('matrix b=', b)"
   ]
  },
  {
   "cell_type": "markdown",
   "id": "3a72d684",
   "metadata": {},
   "source": [
    "行列式计算："
   ]
  },
  {
   "cell_type": "code",
   "execution_count": 29,
   "id": "64ce179b",
   "metadata": {},
   "outputs": [
    {
     "name": "stdout",
     "output_type": "stream",
     "text": [
      "matrix a= [[1 2]\n",
      " [3 4]]\n",
      "b= -2.0000000000000004\n"
     ]
    }
   ],
   "source": [
    "a = np.matrix([[1,2],\n",
    "             [3,4]])\n",
    "b = np.linalg.det(a)\n",
    "\n",
    "print('matrix a=', a)\n",
    "print('b=', b)"
   ]
  },
  {
   "cell_type": "markdown",
   "id": "2bcd836c",
   "metadata": {},
   "source": [
    "求和与最大最小："
   ]
  },
  {
   "cell_type": "code",
   "execution_count": 30,
   "id": "b001b5a0",
   "metadata": {},
   "outputs": [
    {
     "name": "stdout",
     "output_type": "stream",
     "text": [
      "matrix a= [[1 2]\n",
      " [3 4]]\n",
      " b= [[4 6]]\n",
      " c= [[3]\n",
      " [7]]\n",
      " d= 4\n",
      " e= 1\n"
     ]
    }
   ],
   "source": [
    "a = np.matrix([[1,2],\n",
    "              [3,4]])\n",
    "b = a.sum(axis=0)       #对列求和\n",
    "c = a.sum(axis=1)       #对行求和\n",
    "d = a.max()\n",
    "e = a.min()\n",
    "\n",
    "print('matrix a=', a)\n",
    "print(' b=', b)\n",
    "print(' c=', c)\n",
    "print(' d=', d)\n",
    "print(' e=', e)"
   ]
  },
  {
   "cell_type": "markdown",
   "id": "a017f385",
   "metadata": {},
   "source": [
    "**步骤 4\t矩阵转数组**"
   ]
  },
  {
   "cell_type": "code",
   "execution_count": 31,
   "id": "266dc8e7",
   "metadata": {},
   "outputs": [
    {
     "name": "stdout",
     "output_type": "stream",
     "text": [
      "matrix a= [[1 2 3]\n",
      " [4 5 6]]\n",
      "<class 'numpy.matrix'>\n",
      "array b= [[1 2 3]\n",
      " [4 5 6]]\n",
      "<class 'numpy.ndarray'>\n"
     ]
    }
   ],
   "source": [
    "a = np.mat([[1,2,3], [4,5,6]])   \n",
    "b = a.getA()  # getA将矩阵类转化为数组类\n",
    "\n",
    "print('matrix a=', a)\n",
    "print(type(a))\n",
    "print('array b=', b)\n",
    "print(type(b))"
   ]
  },
  {
   "cell_type": "markdown",
   "id": "43501146",
   "metadata": {},
   "source": [
    "### 3. 随机模块\n",
    "**步骤 1\t导入numpy模块**"
   ]
  },
  {
   "cell_type": "code",
   "execution_count": 32,
   "id": "e6fa035b",
   "metadata": {},
   "outputs": [],
   "source": [
    "import numpy as np"
   ]
  },
  {
   "cell_type": "markdown",
   "id": "4fc771cf",
   "metadata": {},
   "source": [
    "**步骤 2 简单随机数据**\n"
   ]
  },
  {
   "cell_type": "code",
   "execution_count": 33,
   "id": "25066e1b",
   "metadata": {},
   "outputs": [
    {
     "name": "stdout",
     "output_type": "stream",
     "text": [
      "r1= \n",
      " [[0.28606482 0.24542071]\n",
      " [0.57506778 0.90029061]]\n",
      "r2= \n",
      " [[0.17325    2.27482223]\n",
      " [0.05676126 0.02682367]]\n",
      "r3= \n",
      " 4\n",
      "r4= \n",
      " [[0.56227428 0.98723769]\n",
      " [0.75565192 0.88940153]]\n"
     ]
    }
   ],
   "source": [
    "r1 = np.random.rand(2,2)      # rand函数 范围在[0,1)\n",
    "r2 = np.random.randn(2,2)     # randn函数 具有标准正态分布\n",
    "r3 = np.random.randint(0,5)   # randint(low,high,size)函数 返回在[low,high)范围的整数\n",
    "r4 = np.random.random((2,2))  # random函数，和random.rand函数输出相同，输入有区别\n",
    "\n",
    "print('r1=','\\n', r1)\n",
    "print('r2=','\\n', r2)\n",
    "print('r3=','\\n', r3)\n",
    "print('r4=','\\n', r4)"
   ]
  },
  {
   "cell_type": "markdown",
   "id": "4814280e",
   "metadata": {},
   "source": [
    "choice函数（choice(a[, size, replace, p])）："
   ]
  },
  {
   "cell_type": "code",
   "execution_count": 34,
   "id": "7d80e2cc",
   "metadata": {},
   "outputs": [
    {
     "name": "stdout",
     "output_type": "stream",
     "text": [
      "r1= \n",
      " [1 3 2]\n",
      "r2= \n",
      " [0 3 2]\n",
      "r3= \n",
      " [1 0 4]\n"
     ]
    }
   ],
   "source": [
    "r1 = np.random.choice(5, 3)                           # 从np.arange(5)数组中抽取3个数\n",
    "r2 = np.random.choice(5, 3, p=[0.1, 0, 0.3, 0.6, 0])  # 被抽取数组中的元素具有不同概率\n",
    "r3 = np.random.choice(5, 3, replace=False)            # 不放回抽样\n",
    "\n",
    "print('r1=','\\n',r1)\n",
    "print('r2=','\\n',r2)\n",
    "print('r3=','\\n',r3)"
   ]
  },
  {
   "cell_type": "markdown",
   "id": "37c9ae2f",
   "metadata": {},
   "source": [
    "**步骤 3\t随机排列**"
   ]
  },
  {
   "cell_type": "code",
   "execution_count": 35,
   "id": "0cee30b7",
   "metadata": {},
   "outputs": [
    {
     "name": "stdout",
     "output_type": "stream",
     "text": [
      "sample= \n",
      " [4 0 2 3 1]\n",
      "r2= \n",
      " [3 4 2 1]\n"
     ]
    }
   ],
   "source": [
    "sample = np.arange(5)\n",
    "np.random.shuffle(sample)                 #改变自身内容\n",
    "r2 = np.random.permutation([1, 2, 3, 4])  #返回随机序列\n",
    "\n",
    "print('sample=','\\n', sample)\n",
    "print('r2=','\\n', r2)"
   ]
  },
  {
   "cell_type": "markdown",
   "id": "bae5e22f",
   "metadata": {},
   "source": [
    "**步骤 4\t常用分布**"
   ]
  },
  {
   "cell_type": "code",
   "execution_count": 36,
   "id": "9fe7cdf7",
   "metadata": {},
   "outputs": [
    {
     "name": "stdout",
     "output_type": "stream",
     "text": [
      "r1= \n",
      " [-0.08815004  0.13306175  0.10571012  0.15864561  0.22488548]\n",
      "r2= \n",
      " [0.52911513 3.43475153]\n",
      "r3= \n",
      " [4 6]\n"
     ]
    }
   ],
   "source": [
    "r1 = np.random.normal(0, 0.1, 5)  # 正态分布，参数1为均值，参数2为标准差，参数3为返回值的形状，默认是None,只输出一个值，也可以为多维，如（2,3）\n",
    "r2 = np.random.uniform(0, 5, 2)   # 均匀分布\n",
    "r3 = np.random.poisson(5, 2)      # 泊松分布\n",
    "\n",
    "print('r1=','\\n', r1)\n",
    "print('r2=','\\n', r2)\n",
    "print('r3=','\\n', r3)"
   ]
  },
  {
   "cell_type": "markdown",
   "id": "b1048871",
   "metadata": {},
   "source": [
    "### 4. 常用数学函数\n",
    "**步骤 1\t三角函数**"
   ]
  },
  {
   "cell_type": "code",
   "execution_count": 38,
   "id": "21f0ec1c",
   "metadata": {},
   "outputs": [
    {
     "name": "stdout",
     "output_type": "stream",
     "text": [
      "b= [0.         0.5        0.70710678 0.8660254  1.        ]\n",
      "c= [1.00000000e+00 8.66025404e-01 7.07106781e-01 5.00000000e-01\n",
      " 6.12323400e-17]\n"
     ]
    }
   ],
   "source": [
    "a = np.array([0, 30, 45, 60, 90])\n",
    "b = np.sin(a * np.pi / 180)\n",
    "c = np.cos(a * np.pi / 180)\n",
    "\n",
    "print('b=', b)\n",
    "print('c=', c)"
   ]
  },
  {
   "cell_type": "markdown",
   "id": "26b52c4e",
   "metadata": {},
   "source": [
    "**步骤 2\taround函数-四舍五入：**"
   ]
  },
  {
   "cell_type": "code",
   "execution_count": 39,
   "id": "76b2cb4b",
   "metadata": {},
   "outputs": [
    {
     "name": "stdout",
     "output_type": "stream",
     "text": [
      "b= [1. 2. 2. 3.]\n",
      "c= [1.  1.5 2.  2.6]\n"
     ]
    }
   ],
   "source": [
    "a = np.array([1.0, 1.5, 2.0, 2.55])\n",
    "b = np.around(a)\n",
    "c = np.around(a, decimals=1)\n",
    "\n",
    "print('b=', b)\n",
    "print('c=', c)"
   ]
  },
  {
   "cell_type": "markdown",
   "id": "225c93e3",
   "metadata": {},
   "source": [
    "**步骤 3\tfloor/ceil函数：**"
   ]
  },
  {
   "cell_type": "code",
   "execution_count": 40,
   "id": "e9b40b40",
   "metadata": {},
   "outputs": [
    {
     "name": "stdout",
     "output_type": "stream",
     "text": [
      "b= [1. 1. 2. 2.]\n",
      "c= [1. 2. 2. 3.]\n"
     ]
    }
   ],
   "source": [
    "a = np.array([1.0, 1.5, 2.0, 2.55])\n",
    "b = np.floor(a)  # 向下取整\n",
    "c = np.ceil(a)   # 向上取整\n",
    "\n",
    "print('b=', b)\n",
    "print('c=', c)"
   ]
  },
  {
   "cell_type": "markdown",
   "id": "9a1edbcd",
   "metadata": {},
   "source": [
    "**步骤 4\t算数运算**"
   ]
  },
  {
   "cell_type": "code",
   "execution_count": 41,
   "id": "f88bcc91",
   "metadata": {},
   "outputs": [
    {
     "name": "stdout",
     "output_type": "stream",
     "text": [
      "c= [5 5 5 5]\n",
      "d= [-3 -1  1  3]\n",
      "e= [4 6 6 4]\n",
      "f= [0.25       0.66666667 1.5        4.        ]\n",
      "g= [1 2 1 0]\n",
      "h= [1 8 9 4]\n"
     ]
    }
   ],
   "source": [
    "a = np.array([1, 2, 3, 4])\n",
    "b = np.array([4, 3, 2, 1])\n",
    "c = np.add(a, b)       # 加\n",
    "d = np.subtract(a, b)  # 减\n",
    "e = np.multiply(a, b)  # 乘\n",
    "f = np.divide(a, b)    # 除\n",
    "g = np.mod(a, b)       # 取余\n",
    "h = np.power(a, b)     # 乘方\n",
    "\n",
    "print('c=', c)\n",
    "print('d=', d)\n",
    "print('e=', e)\n",
    "print('f=', f)\n",
    "print('g=', g)\n",
    "print('h=', h)"
   ]
  },
  {
   "cell_type": "markdown",
   "id": "f5cd8380",
   "metadata": {},
   "source": [
    "**步骤 5\t统计函数**"
   ]
  },
  {
   "cell_type": "code",
   "execution_count": 42,
   "id": "137938a4",
   "metadata": {},
   "outputs": [
    {
     "name": "stdout",
     "output_type": "stream",
     "text": [
      "a= [[0 1 2]\n",
      " [3 4 5]]\n",
      "b= [0 1 2]\n",
      "c= [2 5]\n",
      "d= 2.5\n",
      "e= 2.5\n"
     ]
    }
   ],
   "source": [
    "a = np.arange(6).reshape(2, 3)\n",
    "b = np.amin(a, 0)  # 第0维度上最小值\n",
    "c = np.amax(a,1)   # 第1维度上最大值\n",
    "d = np.median(a)   # 中位数\n",
    "e = np.mean(a)     # 平均数\n",
    "\n",
    "print('a=', a)\n",
    "print('b=', b)\n",
    "print('c=', c)\n",
    "print('d=', d)\n",
    "print('e=', e)"
   ]
  },
  {
   "cell_type": "code",
   "execution_count": 43,
   "id": "922d3c0c",
   "metadata": {},
   "outputs": [
    {
     "name": "stdout",
     "output_type": "stream",
     "text": [
      "b:\n",
      " [[1 3 5]\n",
      " [2 7 8]]\n",
      "c:\n",
      " [[2 5 1]\n",
      " [3 8 7]]\n"
     ]
    }
   ],
   "source": [
    "a = np.array([[3,5,1], [2,8,7]])\n",
    "b = np.sort(a)\n",
    "c = np.sort(a, axis=0)\n",
    "\n",
    "print(\"b:\\n\", b)\n",
    "print(\"c:\\n\", c)"
   ]
  },
  {
   "cell_type": "code",
   "execution_count": null,
   "id": "f1d51e6d",
   "metadata": {},
   "outputs": [],
   "source": []
  }
 ],
 "metadata": {
  "kernelspec": {
   "display_name": "Python 3",
   "language": "python",
   "name": "python3"
  },
  "language_info": {
   "codemirror_mode": {
    "name": "ipython",
    "version": 3
   },
   "file_extension": ".py",
   "mimetype": "text/x-python",
   "name": "python",
   "nbconvert_exporter": "python",
   "pygments_lexer": "ipython3",
   "version": "3.8.8"
  }
 },
 "nbformat": 4,
 "nbformat_minor": 5
}
